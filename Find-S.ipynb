{
 "cells": [
  {
   "cell_type": "code",
   "execution_count": 6,
   "id": "719b75b0",
   "metadata": {},
   "outputs": [
    {
     "name": "stdout",
     "output_type": "stream",
     "text": [
      "Training data\n",
      "['sky', 'airtemp', 'humidity', 'wind', 'water', 'forecast', 'enjoyment']\n",
      "['sunny', 'warm', 'normal', 'strong', 'warm', 'same', 'yes']\n",
      "['sunny', 'warm', 'high', 'strong', 'warm', 'same', 'yes']\n",
      "['rainy', 'cold', 'high', 'strong', 'warm', 'change', 'no']\n",
      "['sunny', 'warm', 'high', 'strong', 'cool', 'change', 'yes']\n",
      "h= ['0', '0', '0', '0', '0', '0']\n",
      "The Hypothesis are:\n",
      "h 0 = ['sunny', 'warm', 'normal', 'strong', 'warm', 'same']\n",
      "h 1 = ['sunny', 'warm', '?', 'strong', 'warm', 'same']\n",
      "h 2 = ['sunny', 'warm', '?', 'strong', '?', '?']\n",
      "Maximally Specific Hypothesis :\n",
      " h 2 = ['sunny', 'warm', '?', 'strong', '?', '?']\n"
     ]
    }
   ],
   "source": [
    "import csv\n",
    "with open('D://enjoysports.csv','r')as f:\n",
    "    reader =csv.reader(f)\n",
    "    data=list(reader)\n",
    "print(\"Training data\")\n",
    "for row in data:\n",
    "    print(row)\n",
    "attr_len=len(data[0])-1\n",
    "h=['0']*attr_len\n",
    "print(\"h=\",h)\n",
    "k=0\n",
    "print(\"The Hypothesis are:\")\n",
    "for row in data:\n",
    "    if row[-1]=='yes':\n",
    "        j=0\n",
    "        for col in row:\n",
    "            if col!='yes':\n",
    "                if col!=h[j] and h[j]=='0':\n",
    "                    h[j]=col\n",
    "                elif col!=h[j] and h[j]!='0':\n",
    "                    h[j]='?'\n",
    "            j=j+1\n",
    "        print(\"h\",k,\"=\",h)\n",
    "        k=k+1\n",
    "print(\"Maximally Specific Hypothesis :\\n\",\"h\",k-1,\"=\",h)"
   ]
  },
  {
   "cell_type": "code",
   "execution_count": null,
   "id": "ef61133a",
   "metadata": {},
   "outputs": [],
   "source": []
  }
 ],
 "metadata": {
  "kernelspec": {
   "display_name": "Python 3 (ipykernel)",
   "language": "python",
   "name": "python3"
  },
  "language_info": {
   "codemirror_mode": {
    "name": "ipython",
    "version": 3
   },
   "file_extension": ".py",
   "mimetype": "text/x-python",
   "name": "python",
   "nbconvert_exporter": "python",
   "pygments_lexer": "ipython3",
   "version": "3.9.5"
  }
 },
 "nbformat": 4,
 "nbformat_minor": 5
}
