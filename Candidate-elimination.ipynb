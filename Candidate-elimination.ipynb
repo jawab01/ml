{
 "cells": [
  {
   "cell_type": "code",
   "execution_count": 8,
   "id": "2367c02d",
   "metadata": {},
   "outputs": [
    {
     "name": "stdout",
     "output_type": "stream",
     "text": [
      "Training data\n",
      "['sky', 'airtemp', 'humidity', 'wind', 'water', 'forecast', 'enjoyment']\n",
      "['sunny', 'warm', 'normal', 'strong', 'warm', 'same', 'yes']\n",
      "['sunny', 'warm', 'high', 'strong', 'warm', 'same', 'yes']\n",
      "['rainy', 'cold', 'high', 'strong', 'warm', 'change', 'no']\n",
      "['sunny', 'warm', 'high', 'strong', 'cool', 'change', 'yes']\n",
      "......\n",
      "The Hypothesis are\n",
      "S= ['0', '0', '0', '0', '0', '0']\n",
      "G= ['?', '?', '?', '?', '?', '?']\n",
      "......\n",
      "S= ['0', '0', '0', '0', '0', '0']\n",
      "G= ['?', '?', '?', '?', '?', '?']\n",
      "S= ['sunny', 'warm', 'normal', 'strong', 'warm', 'same']\n",
      "G= ['?', '?', '?', '?', '?', '?']\n",
      "S= ['sunny', 'warm', '?', 'strong', 'warm', 'same']\n",
      "G= ['?', '?', '?', '?', '?', '?']\n",
      "S= ['sunny', 'warm', '?', 'strong', 'warm', 'same']\n",
      "G= [['sunny', '?', '?', '?', '?', '?'], ['?', 'warm', '?', '?', '?', '?'], ['?', '?', '?', '?', '?', 'same']]\n",
      "S= ['sunny', 'warm', '?', 'strong', '?', '?']\n",
      "G= [['sunny', '?', '?', '?', '?', '?'], ['?', 'warm', '?', '?', '?', '?']]\n"
     ]
    }
   ],
   "source": [
    "import csv\n",
    "with open('D://enjoysports.csv','r')as f:\n",
    "          reader=csv.reader(f)\n",
    "          data=list(reader)\n",
    "print(\"Training data\")\n",
    "for row in data:\n",
    "          print(row)\n",
    "print(\"......\")\n",
    "attr_len=len(data[0])-1\n",
    "S=['0']*attr_len\n",
    "G=['?']*attr_len\n",
    "temp=[]\n",
    "print(\"The Hypothesis are\")\n",
    "print(\"S=\",S)\n",
    "print(\"G=\",G)\n",
    "print(\"......\")\n",
    "for row in data:\n",
    "          if row[-1]==\"yes\":\n",
    "              j=0\n",
    "              for col in row:\n",
    "                  if col!='yes':\n",
    "                      if col!=S[j] and S[j]=='0':\n",
    "                          S[j]=col\n",
    "                      elif col!=S[j] and S[j]!='0':\n",
    "                          S[j]='?'\n",
    "                  j=j+1\n",
    "              for j in range(0,attr_len):\n",
    "                  for k in temp:\n",
    "                      if(k[j]!=S[j] and k[j]!='?'):\n",
    "                          temp.remove(k)\n",
    "          if row[-1]==\"no\":\n",
    "              j=0\n",
    "              for col in row:\n",
    "                   if col!='no':\n",
    "                       if col!=S[j] and S[j]!='?':\n",
    "                          if S[j]=='0':\n",
    "                              G[j]=col\n",
    "                          else:\n",
    "                              G[j]=S[j]\n",
    "                          temp.append(G)\n",
    "                          G=['?']*attr_len\n",
    "                   j=j+1\n",
    "          print(\"S=\",S)\n",
    "          if len(temp)==0:\n",
    "              print(\"G=\",G)\n",
    "          else:\n",
    "              print(\"G=\",temp)\n",
    "          \n",
    "                              "
   ]
  },
  {
   "cell_type": "code",
   "execution_count": null,
   "id": "70d861ef",
   "metadata": {},
   "outputs": [],
   "source": []
  }
 ],
 "metadata": {
  "kernelspec": {
   "display_name": "Python 3 (ipykernel)",
   "language": "python",
   "name": "python3"
  },
  "language_info": {
   "codemirror_mode": {
    "name": "ipython",
    "version": 3
   },
   "file_extension": ".py",
   "mimetype": "text/x-python",
   "name": "python",
   "nbconvert_exporter": "python",
   "pygments_lexer": "ipython3",
   "version": "3.9.5"
  }
 },
 "nbformat": 4,
 "nbformat_minor": 5
}
